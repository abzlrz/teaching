{
 "cells": [
  {
   "cell_type": "markdown",
   "metadata": {
    "internals": {
     "slide_helper": "subslide_end",
     "slide_type": "subslide"
    },
    "slide_helper": "subslide_end",
    "slideshow": {
     "slide_type": "slide"
    }
   },
   "source": [
    "# The NumPy array\n",
    "\n",
    "## A structure for efficient numerical computation\n",
    "\n",
    "<span style=\"font-size: 140%; line-height: 1.3em;\">\n",
    "Stéfan van der Walt (@stefanvdwalt)<br/>\n",
    "University of California, Berkeley<br/>\n",
    "Advanced Scientific Programming in Python\n",
    "</span>\n",
    "\n",
    "<span style=\"font-size: 130%; text-align: right;\">\n",
    "Summer School 2018 held in Melbourne, Australia\n",
    "</span>\n",
    "\n",
    "Accompanying **problem sets** are linked from the Wiki at https://www.melbournebioinformatics.org.au/aspp-asia-pacific/numpy"
   ]
  },
  {
   "cell_type": "markdown",
   "metadata": {
    "internals": {
     "slide_helper": "subslide_end",
     "slide_type": "subslide"
    },
    "slide_helper": "subslide_end",
    "slideshow": {
     "slide_type": "subslide"
    }
   },
   "source": [
    "<img src=\"images/overview.png\" width=\"80%\"/>"
   ]
  },
  {
   "cell_type": "markdown",
   "metadata": {
    "internals": {
     "slide_helper": "subslide_end",
     "slide_type": "subslide"
    },
    "slide_helper": "subslide_end",
    "slideshow": {
     "slide_type": "subslide"
    }
   },
   "source": [
    "## Num-what?\n",
    "\n",
    "This talk discusses some of the more advanced NumPy features. Most of you\n",
    "have some experience with NumPy, but if not you can always catch up by\n",
    "following the tutorial at\n",
    "\n",
    "http://mentat.za.net/numpy/intro/intro.html\n",
    "\n",
    "or studying the course notes at\n",
    "\n",
    "http://scipy-lectures.org\n",
    "\n",
    "If you want to dig a little deeper, the following paper is available from Arxiv:\n",
    "\n",
    ">  **The NumPy array: a structure for efficient numerical computation**. Stéfan\n",
    ">  van der Walt, S. Chris Colbert and Gaël Varoquaux. In IEEE Computing in\n",
    ">  Science Engineering, March/April 2011.\n",
    "\n",
    "Nicolas Rougier has a beautiful tutorial at\n",
    "\n",
    "https://github.com/rougier/numpy-tutorial"
   ]
  },
  {
   "cell_type": "markdown",
   "metadata": {
    "internals": {
     "slide_type": "subslide"
    },
    "slideshow": {
     "slide_type": "subslide"
    }
   },
   "source": [
    "## Setup"
   ]
  },
  {
   "cell_type": "code",
   "execution_count": 1,
   "metadata": {
    "internals": {},
    "slideshow": {
     "slide_type": "-"
    }
   },
   "outputs": [],
   "source": [
    "import numpy as np  # We always use this convention,\n",
    "                    # also in the documentation"
   ]
  },
  {
   "cell_type": "code",
   "execution_count": 2,
   "metadata": {
    "internals": {
     "slide_helper": "subslide_end"
    },
    "slide_helper": "subslide_end",
    "slideshow": {
     "slide_type": "-"
    }
   },
   "outputs": [
    {
     "name": "stdout",
     "output_type": "stream",
     "text": [
      "1.15.0.dev0+af75d4c\n"
     ]
    }
   ],
   "source": [
    "print(np.__version__)   # version 1.11 or greater"
   ]
  },
  {
   "cell_type": "markdown",
   "metadata": {
    "internals": {
     "slide_type": "subslide"
    },
    "slideshow": {
     "slide_type": "subslide"
    }
   },
   "source": [
    "NumPy should be linked to a fast implementation of BLAS (Basic Linear Algebra Routines)\n",
    "such as OpenBLAS or ATLAS.  On Ubuntu, e.g., install ``libatlas3-base``.  If you installed NumPy via `pip` or `conda`, this should already be the case."
   ]
  },
  {
   "cell_type": "code",
   "execution_count": 4,
   "metadata": {
    "internals": {
     "slide_helper": "subslide_end"
    },
    "slide_helper": "slide_end",
    "slideshow": {
     "slide_type": "-"
    }
   },
   "outputs": [
    {
     "name": "stdout",
     "output_type": "stream",
     "text": [
      "blas_mkl_info:\n",
      "  NOT AVAILABLE\n",
      "blis_info:\n",
      "  NOT AVAILABLE\n",
      "openblas_info:\n",
      "  NOT AVAILABLE\n",
      "atlas_3_10_blas_threads_info:\n",
      "  NOT AVAILABLE\n",
      "atlas_3_10_blas_info:\n",
      "  NOT AVAILABLE\n",
      "atlas_blas_threads_info:\n",
      "  NOT AVAILABLE\n",
      "atlas_blas_info:\n",
      "  NOT AVAILABLE\n",
      "blas_info:\n",
      "  NOT AVAILABLE\n",
      "blas_src_info:\n",
      "  NOT AVAILABLE\n",
      "blas_opt_info:\n",
      "  NOT AVAILABLE\n",
      "lapack_mkl_info:\n",
      "  NOT AVAILABLE\n",
      "openblas_lapack_info:\n",
      "  NOT AVAILABLE\n",
      "openblas_clapack_info:\n",
      "  NOT AVAILABLE\n",
      "atlas_3_10_threads_info:\n",
      "  NOT AVAILABLE\n",
      "atlas_3_10_info:\n",
      "  NOT AVAILABLE\n",
      "atlas_threads_info:\n",
      "  NOT AVAILABLE\n",
      "atlas_info:\n",
      "  NOT AVAILABLE\n",
      "lapack_info:\n",
      "  NOT AVAILABLE\n",
      "lapack_src_info:\n",
      "  NOT AVAILABLE\n",
      "lapack_opt_info:\n",
      "  NOT AVAILABLE\n",
      "None\n"
     ]
    }
   ],
   "source": [
    "print(np.show_config()) # got ATLAS / Accelerate / MKL?"
   ]
  },
  {
   "cell_type": "markdown",
   "metadata": {
    "internals": {
     "slide_type": "subslide"
    },
    "slideshow": {
     "slide_type": "subslide"
    }
   },
   "source": [
    "Make use of Jupyter's powerful features!\n",
    "\n",
    "- TAB-completion\n",
    "- documentation (use `np.some_function?` or `some_func??` for source)\n",
    "- magics (e.g., `%timeit`, `%prun`, `%magic`)\n",
    "- cells magics (e.g., `%%bash`, `%%file`)"
   ]
  },
  {
   "cell_type": "markdown",
   "metadata": {
    "internals": {
     "slide_type": "subslide"
    },
    "slideshow": {
     "slide_type": "slide"
    }
   },
   "source": [
    "## The NumPy ndarray\n",
    "\n",
    "### Revision: Structure of an array"
   ]
  },
  {
   "cell_type": "markdown",
   "metadata": {
    "internals": {
     "slide_helper": "subslide_end"
    },
    "slide_helper": "subslide_end",
    "slideshow": {
     "slide_type": "-"
    }
   },
   "source": [
    "<img src=\"images/array_memory_presentation.png\" width=\"80%\"/>"
   ]
  },
  {
   "cell_type": "markdown",
   "metadata": {
    "internals": {
     "slide_helper": "subslide_end",
     "slide_type": "subslide"
    },
    "slide_helper": "subslide_end",
    "slideshow": {
     "slide_type": "subslide"
    }
   },
   "source": [
    "<img src=\"images/ndarray_struct.png\" width=\"50%\"/>"
   ]
  },
  {
   "cell_type": "markdown",
   "metadata": {
    "internals": {
     "slide_helper": "subslide_end",
     "slide_type": "subslide"
    },
    "slide_helper": "subslide_end",
    "slideshow": {
     "slide_type": "subslide"
    }
   },
   "source": [
    "Taking a look at ``numpy/core/include/numpy/ndarraytypes.h``:\n",
    "\n",
    "```cpp\n",
    "ndarray typedef struct PyArrayObject {\n",
    "    PyObject_HEAD\n",
    "    char *data;             /* pointer to data buffer */\n",
    "    int nd;                 /* number of dimensions, also called `ndim` */\n",
    "    npy_intp *dimensions;   /* size in each dimension, also called `shape`  */\n",
    "    npy_intp *strides;      /* bytes to jump to get\n",
    "                             * to the next element in each dimension\n",
    "                             */\n",
    "    PyObject *base;         /* pointer to original array\n",
    "                            /* decref this object upon deletion. */\n",
    "    PyArray_Descr *descr;   /* pointer to type structure, called `dtype` */\n",
    "    int flags;              /* flags */\n",
    "    PyObject *weakreflist;  /* for weak references */\n",
    "} PyArrayObject ;\n",
    "```"
   ]
  },
  {
   "cell_type": "markdown",
   "metadata": {
    "internals": {
     "slide_type": "subslide"
    },
    "slideshow": {
     "slide_type": "subslide"
    }
   },
   "source": [
    "## A homogeneous container"
   ]
  },
  {
   "cell_type": "markdown",
   "metadata": {
    "internals": {},
    "slideshow": {
     "slide_type": "-"
    }
   },
   "source": [
    "```cpp\n",
    "char *data;  /* pointer to data buffer */\n",
    "```"
   ]
  },
  {
   "cell_type": "markdown",
   "metadata": {
    "internals": {},
    "slideshow": {
     "slide_type": "-"
    }
   },
   "source": [
    "Data is just a pointer to bytes in memory:\n",
    "\n",
    "<img src=\"images/array_dtype.png\" width=\"60%\">"
   ]
  },
  {
   "cell_type": "code",
   "execution_count": 21,
   "metadata": {
    "internals": {},
    "slideshow": {
     "slide_type": "subslide"
    }
   },
   "outputs": [],
   "source": [
    "x = np.array([1, 2, 3])"
   ]
  },
  {
   "cell_type": "code",
   "execution_count": 22,
   "metadata": {
    "internals": {},
    "slideshow": {
     "slide_type": "-"
    }
   },
   "outputs": [
    {
     "data": {
      "text/plain": [
       "dtype('int64')"
      ]
     },
     "execution_count": 22,
     "metadata": {},
     "output_type": "execute_result"
    }
   ],
   "source": [
    "x.dtype"
   ]
  },
  {
   "cell_type": "code",
   "execution_count": 23,
   "metadata": {
    "internals": {},
    "slideshow": {
     "slide_type": "-"
    }
   },
   "outputs": [
    {
     "data": {
      "text/plain": [
       "33707664"
      ]
     },
     "execution_count": 23,
     "metadata": {},
     "output_type": "execute_result"
    }
   ],
   "source": [
    "x.ctypes.data"
   ]
  },
  {
   "cell_type": "code",
   "execution_count": 44,
   "metadata": {
    "internals": {
     "slide_helper": "subslide_end"
    },
    "slide_helper": "subslide_end",
    "slideshow": {
     "slide_type": "-"
    }
   },
   "outputs": [
    {
     "data": {
      "text/plain": [
       "[1, 0, 0, 0, 0, 0, 0, 0, 2, 0, 0, 0, 0, 0, 0, 0, 3, 0, 0, 0, 0, 0, 0, 0]"
      ]
     },
     "execution_count": 44,
     "metadata": {},
     "output_type": "execute_result"
    }
   ],
   "source": [
    "import ctypes\n",
    "list(ctypes.string_at(x.ctypes.data, x.size * x.itemsize))"
   ]
  },
  {
   "cell_type": "markdown",
   "metadata": {
    "internals": {
     "slide_type": "subslide"
    },
    "slideshow": {
     "slide_type": "subslide"
    }
   },
   "source": [
    "## Dimensions"
   ]
  },
  {
   "cell_type": "markdown",
   "metadata": {
    "internals": {},
    "slideshow": {
     "slide_type": "-"
    }
   },
   "source": [
    "```cpp\n",
    "int nd;\n",
    "npy_intp *dimensions; /* number of dimensions */\n",
    "                      /* size in each dimension */\n",
    "```"
   ]
  },
  {
   "cell_type": "markdown",
   "metadata": {
    "internals": {
     "slide_helper": "subslide_end"
    },
    "slide_helper": "subslide_end",
    "slideshow": {
     "slide_type": "-"
    }
   },
   "source": [
    "<img src=\"images/array_flat_extended.png\" width=\"80%\"/>\n",
    "<br/>\n",
    "<div style=\"text-align: center;\">\n",
    "<img style=\"display: inline;\" src=\"images/array_reshape.png\" width=\"40%\"/>\n",
    "<img style=\"display: inline;\" src=\"images/array_reshape_nd.png\" width=\"40%\"/>\n",
    "</div>\n"
   ]
  },
  {
   "cell_type": "code",
   "execution_count": 45,
   "metadata": {
    "internals": {
     "slide_type": "subslide"
    },
    "slideshow": {
     "slide_type": "subslide"
    }
   },
   "outputs": [],
   "source": [
    "x = np.array([])"
   ]
  },
  {
   "cell_type": "code",
   "execution_count": 46,
   "metadata": {
    "internals": {},
    "slideshow": {
     "slide_type": "-"
    }
   },
   "outputs": [
    {
     "data": {
      "text/plain": [
       "()"
      ]
     },
     "execution_count": 46,
     "metadata": {},
     "output_type": "execute_result"
    }
   ],
   "source": [
    "np.array(0).shape"
   ]
  },
  {
   "cell_type": "code",
   "execution_count": 47,
   "metadata": {
    "internals": {},
    "slideshow": {
     "slide_type": "-"
    }
   },
   "outputs": [
    {
     "data": {
      "text/plain": [
       "(3, 2, 3, 3)"
      ]
     },
     "execution_count": 47,
     "metadata": {},
     "output_type": "execute_result"
    }
   ],
   "source": [
    "x = np.random.random((3, 2, 3, 3))\n",
    "x.shape"
   ]
  },
  {
   "cell_type": "code",
   "execution_count": 48,
   "metadata": {
    "internals": {
     "slide_helper": "subslide_end"
    },
    "slide_helper": "subslide_end",
    "slideshow": {
     "slide_type": "-"
    }
   },
   "outputs": [
    {
     "data": {
      "text/plain": [
       "4"
      ]
     },
     "execution_count": 48,
     "metadata": {},
     "output_type": "execute_result"
    }
   ],
   "source": [
    "x.ndim"
   ]
  },
  {
   "cell_type": "markdown",
   "metadata": {
    "internals": {
     "slide_type": "subslide"
    },
    "slideshow": {
     "slide_type": "subslide"
    }
   },
   "source": [
    "### Data type descriptors"
   ]
  },
  {
   "cell_type": "markdown",
   "metadata": {
    "internals": {},
    "slideshow": {
     "slide_type": "-"
    }
   },
   "source": [
    "```cpp\n",
    "PyArray_Descr * descr ;  /* Pointer to type struct */\n",
    "```"
   ]
  },
  {
   "cell_type": "markdown",
   "metadata": {
    "internals": {},
    "slideshow": {
     "slide_type": "-"
    }
   },
   "source": [
    "Common types in include ``int``, ``float``, ``bool``:"
   ]
  },
  {
   "cell_type": "code",
   "execution_count": 49,
   "metadata": {
    "internals": {},
    "slideshow": {
     "slide_type": "-"
    }
   },
   "outputs": [
    {
     "data": {
      "text/plain": [
       "array([-1,  0,  1])"
      ]
     },
     "execution_count": 49,
     "metadata": {},
     "output_type": "execute_result"
    }
   ],
   "source": [
    "np.array ([-1, 0, 1], dtype=int)"
   ]
  },
  {
   "cell_type": "code",
   "execution_count": 50,
   "metadata": {
    "internals": {},
    "slideshow": {
     "slide_type": "-"
    }
   },
   "outputs": [
    {
     "data": {
      "text/plain": [
       "array([-1.,  0.,  1.])"
      ]
     },
     "execution_count": 50,
     "metadata": {},
     "output_type": "execute_result"
    }
   ],
   "source": [
    "np.array([-1, 0, 1], dtype=float)"
   ]
  },
  {
   "cell_type": "code",
   "execution_count": 51,
   "metadata": {
    "internals": {},
    "slideshow": {
     "slide_type": "-"
    }
   },
   "outputs": [
    {
     "data": {
      "text/plain": [
       "array([ True, False,  True])"
      ]
     },
     "execution_count": 51,
     "metadata": {},
     "output_type": "execute_result"
    }
   ],
   "source": [
    "np.array([-1 , 0, 1], dtype=bool)"
   ]
  },
  {
   "cell_type": "markdown",
   "metadata": {
    "internals": {},
    "slideshow": {
     "slide_type": "subslide"
    }
   },
   "source": [
    "Each item in the array has to have the same type (occupy a fixed nr of bytes\n",
    "in memory), but that does not mean a type has to consist of a single item:"
   ]
  },
  {
   "cell_type": "code",
   "execution_count": 52,
   "metadata": {
    "internals": {},
    "slideshow": {
     "slide_type": "-"
    }
   },
   "outputs": [
    {
     "data": {
      "text/plain": [
       "array([(0,  True), (1, False)], dtype=[('value', '<i8'), ('status', '?')])"
      ]
     },
     "execution_count": 52,
     "metadata": {},
     "output_type": "execute_result"
    }
   ],
   "source": [
    "dt = np.dtype([('value', np.int), ('status', np.bool)])\n",
    "np.array([(0, True), (1, False)], dtype=dt)"
   ]
  },
  {
   "cell_type": "markdown",
   "metadata": {
    "internals": {
     "slide_helper": "subslide_end"
    },
    "slide_helper": "subslide_end",
    "slideshow": {
     "slide_type": "-"
    }
   },
   "source": [
    "This is called a structured array."
   ]
  },
  {
   "cell_type": "markdown",
   "metadata": {
    "internals": {
     "slide_type": "subslide"
    },
    "slideshow": {
     "slide_type": "subslide"
    }
   },
   "source": [
    "### Strides"
   ]
  },
  {
   "cell_type": "markdown",
   "metadata": {
    "internals": {},
    "slideshow": {
     "slide_type": "-"
    }
   },
   "source": [
    "```cpp\n",
    "npy_intp *strides;  /* bytes to jump to get */\n",
    "                    /* to the next element */\n",
    "```"
   ]
  },
  {
   "cell_type": "code",
   "execution_count": 62,
   "metadata": {
    "internals": {},
    "slideshow": {
     "slide_type": "-"
    }
   },
   "outputs": [
    {
     "data": {
      "text/plain": [
       "array([[ 0,  1,  2,  3],\n",
       "       [ 4,  5,  6,  7],\n",
       "       [ 8,  9, 10, 11]])"
      ]
     },
     "execution_count": 62,
     "metadata": {},
     "output_type": "execute_result"
    }
   ],
   "source": [
    "x = np.arange(12).reshape((3, 4))\n",
    "x"
   ]
  },
  {
   "cell_type": "code",
   "execution_count": 63,
   "metadata": {
    "internals": {},
    "slideshow": {
     "slide_type": "-"
    }
   },
   "outputs": [
    {
     "data": {
      "text/plain": [
       "dtype('int64')"
      ]
     },
     "execution_count": 63,
     "metadata": {},
     "output_type": "execute_result"
    }
   ],
   "source": [
    "x.dtype"
   ]
  },
  {
   "cell_type": "code",
   "execution_count": 64,
   "metadata": {
    "internals": {},
    "slideshow": {
     "slide_type": "-"
    }
   },
   "outputs": [
    {
     "data": {
      "text/plain": [
       "8"
      ]
     },
     "execution_count": 64,
     "metadata": {},
     "output_type": "execute_result"
    }
   ],
   "source": [
    "x.dtype.itemsize"
   ]
  },
  {
   "cell_type": "code",
   "execution_count": 65,
   "metadata": {
    "internals": {
     "slide_helper": "subslide_end"
    },
    "slide_helper": "subslide_end",
    "slideshow": {
     "slide_type": "-"
    }
   },
   "outputs": [
    {
     "data": {
      "text/plain": [
       "(32, 8)"
      ]
     },
     "execution_count": 65,
     "metadata": {},
     "output_type": "execute_result"
    }
   ],
   "source": [
    "x.strides"
   ]
  },
  {
   "cell_type": "markdown",
   "metadata": {
    "internals": {
     "slide_type": "subslide"
    },
    "slideshow": {
     "slide_type": "subslide"
    }
   },
   "source": [
    "We see ``(4 * itemsize, itemsize)`` or ``(skip_bytes_row, skip_bytes_col)``."
   ]
  },
  {
   "cell_type": "markdown",
   "metadata": {
    "internals": {
     "slide_helper": "subslide_end"
    },
    "slide_helper": "subslide_end",
    "slideshow": {
     "slide_type": "-"
    }
   },
   "source": [
    "<img src=\"images/array_memory_dtype.png\" width=\"100%\"/>"
   ]
  },
  {
   "cell_type": "markdown",
   "metadata": {
    "internals": {
     "slide_helper": "subslide_end",
     "slide_type": "subslide"
    },
    "slide_helper": "subslide_end",
    "slideshow": {
     "slide_type": "subslide"
    }
   },
   "source": [
    "### Example: Taking the transpose\n",
    "\n",
    "We can take the transpose of the array *without* copying any data by simply manipulating ``shape`` and ``strides``.  What should they be?\n",
    "\n",
    "<img src=\"images/array_transpose_question.png\" width=\"100%\"/>"
   ]
  },
  {
   "cell_type": "markdown",
   "metadata": {
    "internals": {
     "slide_type": "subslide"
    },
    "slideshow": {
     "slide_type": "subslide"
    }
   },
   "source": [
    "### Flags"
   ]
  },
  {
   "cell_type": "markdown",
   "metadata": {
    "internals": {},
    "slideshow": {
     "slide_type": "-"
    }
   },
   "source": [
    "```cpp\n",
    "int flags;  /* Flags */\n",
    "```"
   ]
  },
  {
   "cell_type": "code",
   "execution_count": 66,
   "metadata": {
    "internals": {},
    "slideshow": {
     "slide_type": "-"
    }
   },
   "outputs": [
    {
     "data": {
      "text/plain": [
       "  C_CONTIGUOUS : True\n",
       "  F_CONTIGUOUS : True\n",
       "  OWNDATA : True\n",
       "  WRITEABLE : True\n",
       "  ALIGNED : True\n",
       "  WRITEBACKIFCOPY : False\n",
       "  UPDATEIFCOPY : False"
      ]
     },
     "execution_count": 66,
     "metadata": {},
     "output_type": "execute_result"
    }
   ],
   "source": [
    "x = np.array([1, 2, 3])\n",
    "z = x[::2]\n",
    "\n",
    "x.flags"
   ]
  },
  {
   "cell_type": "code",
   "execution_count": 67,
   "metadata": {
    "internals": {
     "slide_helper": "subslide_end"
    },
    "slide_helper": "slide_end",
    "slideshow": {
     "slide_type": "-"
    }
   },
   "outputs": [
    {
     "data": {
      "text/plain": [
       "  C_CONTIGUOUS : False\n",
       "  F_CONTIGUOUS : False\n",
       "  OWNDATA : False\n",
       "  WRITEABLE : True\n",
       "  ALIGNED : True\n",
       "  WRITEBACKIFCOPY : False\n",
       "  UPDATEIFCOPY : False"
      ]
     },
     "execution_count": 67,
     "metadata": {},
     "output_type": "execute_result"
    }
   ],
   "source": [
    "z.flags"
   ]
  },
  {
   "cell_type": "markdown",
   "metadata": {
    "internals": {
     "slide_type": "subslide"
    },
    "slideshow": {
     "slide_type": "slide"
    }
   },
   "source": [
    "## Structured arrays\n",
    "\n",
    "Like we saw earlier, each item in an array has the same type, but that does not\n",
    "mean a type has to consist of a single item:"
   ]
  },
  {
   "cell_type": "code",
   "execution_count": 68,
   "metadata": {
    "internals": {},
    "slideshow": {
     "slide_type": "-"
    }
   },
   "outputs": [
    {
     "data": {
      "text/plain": [
       "array([(0,  True), (1, False)], dtype=[('value', '<i8'), ('status', '?')])"
      ]
     },
     "execution_count": 68,
     "metadata": {},
     "output_type": "execute_result"
    }
   ],
   "source": [
    "dt = np.dtype([('value', np.int), ('status', np.bool)])\n",
    "np.array([(0, True), (1, False)], dtype=dt)"
   ]
  },
  {
   "cell_type": "markdown",
   "metadata": {
    "internals": {},
    "slideshow": {
     "slide_type": "-"
    }
   },
   "source": [
    "This is called a structured array, and is accessed like a dictionary:"
   ]
  },
  {
   "cell_type": "code",
   "execution_count": 69,
   "metadata": {
    "internals": {},
    "slideshow": {
     "slide_type": "-"
    }
   },
   "outputs": [
    {
     "data": {
      "text/plain": [
       "array([0, 1])"
      ]
     },
     "execution_count": 69,
     "metadata": {},
     "output_type": "execute_result"
    }
   ],
   "source": [
    "x = np.array([(0, True), (1, False)], dtype=dt)\n",
    "x['value']"
   ]
  },
  {
   "cell_type": "code",
   "execution_count": 70,
   "metadata": {
    "internals": {},
    "slideshow": {
     "slide_type": "-"
    }
   },
   "outputs": [
    {
     "data": {
      "text/plain": [
       "array([ True, False])"
      ]
     },
     "execution_count": 70,
     "metadata": {},
     "output_type": "execute_result"
    }
   ],
   "source": [
    "x['status']"
   ]
  },
  {
   "cell_type": "markdown",
   "metadata": {
    "internals": {
     "slide_helper": "subslide_end"
    },
    "slide_helper": "subslide_end",
    "slideshow": {
     "slide_type": "subslide"
    }
   },
   "source": [
    "### Reading structured data from file\n",
    "\n",
    "<img src=\"images/radar_struct.png\" width=\"100%\"/>"
   ]
  },
  {
   "cell_type": "markdown",
   "metadata": {
    "internals": {
     "slide_type": "subslide"
    },
    "slideshow": {
     "slide_type": "subslide"
    }
   },
   "source": [
    "Reading this kind of data can be troublesome:"
   ]
  },
  {
   "cell_type": "markdown",
   "metadata": {
    "internals": {},
    "slideshow": {
     "slide_type": "-"
    }
   },
   "source": [
    "```matlab\n",
    "while ((count > 0) && (n <= NumPoints))\n",
    "  % get time - I8 [ ms ]\n",
    "  [lw, count] = fread(fid, 1, 'uint32');\n",
    "  if (count > 0) % then carry on\n",
    "  uw = fread(fid, 1, 'int32');\n",
    "  t(1, n) = (lw + uw * 2^32) / 1000;\n",
    "\n",
    "  % get number of bytes of data\n",
    "  numbytes = fread(fid, 1, 'uint32');\n",
    "\n",
    "  % read sMEASUREMENTPOSITIONINFO (11 bytes)\n",
    "  m(1, n) = fread(fid, 1, 'float32'); % az [ rad ]\n",
    "  m(2, n) = fread(fid, 1, 'float32'); % el [ rad ]\n",
    "  m(3, n) = fread(fid, 1, 'uint8');   % region type\n",
    "  m(4, n) = fread(fid, 1, 'uint16');  % region ID\n",
    "  g(1, n) = fread(fid, 1, 'uint8');\n",
    "\n",
    "  numsamples = ( numbytes -12)/2; % 2 byte int\n",
    "  ...\n",
    "```"
   ]
  },
  {
   "cell_type": "markdown",
   "metadata": {
    "internals": {},
    "slideshow": {
     "slide_type": "subslide"
    }
   },
   "source": [
    "Using structured arrays:\n",
    "\n",
    "```python\n",
    "dt = np.dtype([('time', np.uint64),\n",
    "               ('size', np.uint32),\n",
    "               ('position', [('az', np.float32),\n",
    "                             ('el', np.float32),\n",
    "                             ('region_type', np.uint8),\n",
    "                             ('region_ID', np.uint16)]),\n",
    "               ('gain', np.uint8),\n",
    "               ('samples', (np.int16, 2048))])\n",
    "\n",
    "data = np.fromfile(f, dtype=dt)\n",
    "```"
   ]
  },
  {
   "cell_type": "markdown",
   "metadata": {
    "internals": {
     "slide_helper": "subslide_end"
    },
    "slide_helper": "slide_end",
    "slideshow": {
     "slide_type": "-"
    }
   },
   "source": [
    "We can then access this structured array as before:\n",
    "\n",
    "```python\n",
    "data['position']['az']\n",
    "```"
   ]
  },
  {
   "cell_type": "markdown",
   "metadata": {},
   "source": [
    "If this is the type of data you work with most frequently,\n",
    "you should also look at Pandas (see [my DS tutorial](https://github.com/stefanv/ds_intro))."
   ]
  },
  {
   "cell_type": "markdown",
   "metadata": {
    "internals": {
     "slide_type": "subslide"
    },
    "slideshow": {
     "slide_type": "slide"
    }
   },
   "source": [
    "## Broadcasting\n",
    "\n",
    "Combining of differently shaped arrays without creating large intermediate\n",
    "arrays:"
   ]
  },
  {
   "cell_type": "code",
   "execution_count": 71,
   "metadata": {
    "internals": {},
    "slideshow": {
     "slide_type": "-"
    }
   },
   "outputs": [
    {
     "name": "stdout",
     "output_type": "stream",
     "text": [
      "[0 1 2 3]\n",
      "[3 4 5 6]\n"
     ]
    }
   ],
   "source": [
    "x = np.arange(4)\n",
    "print(x)\n",
    "print(x + 3)"
   ]
  },
  {
   "cell_type": "markdown",
   "metadata": {
    "internals": {
     "slide_helper": "subslide_end"
    },
    "slide_helper": "subslide_end",
    "slideshow": {
     "slide_type": "-"
    }
   },
   "source": [
    "![Broadcasting in 1D](images/broadcast_1D.png)\n",
    "\n",
    "See docstring of ``np.doc.broadcasting`` for more detail."
   ]
  },
  {
   "cell_type": "markdown",
   "metadata": {
    "internals": {
     "slide_type": "subslide"
    },
    "slideshow": {
     "slide_type": "subslide"
    }
   },
   "source": [
    "## Broadcasting (2D)"
   ]
  },
  {
   "cell_type": "code",
   "execution_count": 72,
   "metadata": {
    "internals": {},
    "slideshow": {
     "slide_type": "-"
    }
   },
   "outputs": [
    {
     "name": "stdout",
     "output_type": "stream",
     "text": [
      "[[ 0  1  2  3]\n",
      " [ 4  5  6  7]\n",
      " [ 8  9 10 11]]\n",
      "\n",
      "[[1]\n",
      " [2]\n",
      " [3]]\n"
     ]
    }
   ],
   "source": [
    "a = np.arange(12).reshape((3, 4))\n",
    "b = np.array([1, 2, 3])[:, np.newaxis]\n",
    "\n",
    "print(a)\n",
    "print()\n",
    "print(b)"
   ]
  },
  {
   "cell_type": "code",
   "execution_count": 73,
   "metadata": {
    "internals": {},
    "slideshow": {
     "slide_type": "-"
    }
   },
   "outputs": [
    {
     "data": {
      "text/plain": [
       "array([[ 1,  2,  3,  4],\n",
       "       [ 6,  7,  8,  9],\n",
       "       [11, 12, 13, 14]])"
      ]
     },
     "execution_count": 73,
     "metadata": {},
     "output_type": "execute_result"
    }
   ],
   "source": [
    "a + b"
   ]
  },
  {
   "cell_type": "markdown",
   "metadata": {
    "internals": {
     "slide_helper": "subslide_end"
    },
    "slide_helper": "subslide_end",
    "slideshow": {
     "slide_type": "subslide"
    }
   },
   "source": [
    "<img src=\"images/broadcast_2D.png\"/>"
   ]
  },
  {
   "cell_type": "markdown",
   "metadata": {
    "internals": {
     "slide_type": "subslide"
    },
    "slideshow": {
     "slide_type": "subslide"
    }
   },
   "source": [
    "## Broadcasting (3D)"
   ]
  },
  {
   "cell_type": "code",
   "execution_count": 75,
   "metadata": {
    "internals": {},
    "slideshow": {
     "slide_type": "-"
    }
   },
   "outputs": [],
   "source": [
    "x = np.zeros((3, 5))\n",
    "y = np.zeros(8)\n",
    "z = x[..., None] + y"
   ]
  },
  {
   "cell_type": "markdown",
   "metadata": {
    "internals": {},
    "slideshow": {
     "slide_type": "-"
    }
   },
   "source": [
    "```\n",
    "X shape = (3, 5, 1)\n",
    "Y shape = (      8)\n",
    "-------------------\n",
    "Z shape = (3, 5, 8)\n",
    "```"
   ]
  },
  {
   "cell_type": "markdown",
   "metadata": {
    "internals": {
     "slide_helper": "subslide_end"
    },
    "slide_helper": "subslide_end",
    "slideshow": {
     "slide_type": "subslide"
    }
   },
   "source": [
    "<img src=\"images/broadcast_3D.png\"/>"
   ]
  },
  {
   "cell_type": "markdown",
   "metadata": {
    "internals": {
     "slide_type": "subslide"
    },
    "slideshow": {
     "slide_type": "subslide"
    }
   },
   "source": [
    "## Broadcasting rules\n",
    "\n",
    "The broadcasting rule is: compare dimensions, starting from\n",
    "the last. Match when either dimension is one or ``None``, or if dimensions are\n",
    "equal."
   ]
  },
  {
   "cell_type": "markdown",
   "metadata": {
    "internals": {
     "slide_helper": "subslide_end"
    },
    "slide_helper": "subslide_end",
    "slideshow": {
     "slide_type": "-"
    }
   },
   "source": [
    "```\n",
    "Scalar    2D           3D           Bad\n",
    "\n",
    "( ,)     (3, 4)     (3, 5, 1)    (3, 5, 2)\n",
    "(3,)     (3, 1)     (      8)    (      8)\n",
    "----     ------     ---------    ---------\n",
    "(3,)     (3, 4)     (3, 5, 8)       XXX\n",
    "```"
   ]
  },
  {
   "cell_type": "markdown",
   "metadata": {
    "internals": {
     "slide_type": "subslide"
    },
    "slideshow": {
     "slide_type": "subslide"
    }
   },
   "source": [
    "## Explicit broadcasting"
   ]
  },
  {
   "cell_type": "code",
   "execution_count": 99,
   "metadata": {
    "internals": {},
    "slideshow": {
     "slide_type": "-"
    }
   },
   "outputs": [
    {
     "data": {
      "text/plain": [
       "(3, 5, 8)"
      ]
     },
     "execution_count": 99,
     "metadata": {},
     "output_type": "execute_result"
    }
   ],
   "source": [
    "x = np.zeros((3, 5, 1))\n",
    "y = np.zeros((3, 5, 8))\n",
    "\n",
    "xx, yy = np.broadcast_arrays(x, y)\n",
    "\n",
    "xx.shape"
   ]
  },
  {
   "cell_type": "markdown",
   "metadata": {},
   "source": [
    "This should familiar to those of you who know \"meshgrid\" from MATLAB."
   ]
  },
  {
   "cell_type": "markdown",
   "metadata": {
    "internals": {
     "slide_helper": "subslide_end"
    },
    "slide_helper": "subslide_end",
    "slideshow": {
     "slide_type": "-"
    }
   },
   "source": [
    "```python\n",
    "np.broadcast_arrays([1, 2, 3],\n",
    "                    [[1], [2], [3]])\n",
    "```\n",
    "\n",
    "```\n",
    "[[1 2 3]   [[1 1 1]\n",
    " [1 2 3]    [2 2 2]\n",
    " [1 2 3]]   [3 3 3]]\n",
    "```"
   ]
  },
  {
   "cell_type": "code",
   "execution_count": 100,
   "metadata": {
    "slideshow": {
     "slide_type": "-"
    }
   },
   "outputs": [],
   "source": [
    "# Alternative API for broadcasting explicitly:\n",
    "\n",
    "np.broadcast_to(x, (3,5,8));"
   ]
  },
  {
   "cell_type": "markdown",
   "metadata": {},
   "source": [
    "Note: when broadcasting, NumPy does *not* generate big new matrices.  See section later on stride tricks, and consider the effect of `stride = 0`."
   ]
  },
  {
   "cell_type": "markdown",
   "metadata": {
    "slideshow": {
     "slide_type": "slide"
    }
   },
   "source": [
    "## Fancy indexing\n",
    "\n",
    "An ndarray can be indexed in two ways:\n",
    "\n",
    " - Using slices and scalars\n",
    " - Using other ndarrays (\"fancy indexing\")"
   ]
  },
  {
   "cell_type": "code",
   "execution_count": 105,
   "metadata": {
    "internals": {
     "slide_type": "subslide"
    },
    "slideshow": {
     "slide_type": "subslide"
    }
   },
   "outputs": [
    {
     "data": {
      "text/plain": [
       "array([[0, 1, 2],\n",
       "       [3, 4, 5],\n",
       "       [6, 7, 8]])"
      ]
     },
     "execution_count": 105,
     "metadata": {},
     "output_type": "execute_result"
    }
   ],
   "source": [
    "x = np.arange(9).reshape((3, 3))\n",
    "x"
   ]
  },
  {
   "cell_type": "code",
   "execution_count": 111,
   "metadata": {},
   "outputs": [
    {
     "data": {
      "text/plain": [
       "array([2, 5, 8])"
      ]
     },
     "execution_count": 111,
     "metadata": {},
     "output_type": "execute_result"
    }
   ],
   "source": [
    "x[:, 2]  # standard, slice-scalar"
   ]
  },
  {
   "cell_type": "code",
   "execution_count": 110,
   "metadata": {},
   "outputs": [
    {
     "data": {
      "text/plain": [
       "8"
      ]
     },
     "execution_count": 110,
     "metadata": {},
     "output_type": "execute_result"
    }
   ],
   "source": [
    "x[2, 2]  # standard, scalar-scalar"
   ]
  },
  {
   "cell_type": "code",
   "execution_count": 112,
   "metadata": {
    "internals": {},
    "slideshow": {
     "slide_type": "-"
    }
   },
   "outputs": [
    {
     "data": {
      "text/plain": [
       "array([[1, 1, 2],\n",
       "       [4, 4, 5],\n",
       "       [7, 7, 8]])"
      ]
     },
     "execution_count": 112,
     "metadata": {},
     "output_type": "execute_result"
    }
   ],
   "source": [
    "x[:, [1, 1, 2]]  # fancy: slice-array"
   ]
  },
  {
   "cell_type": "markdown",
   "metadata": {
    "internals": {
     "slide_type": "subslide"
    },
    "slideshow": {
     "slide_type": "subslide"
    }
   },
   "source": [
    "### Output shape of an indexing op"
   ]
  },
  {
   "cell_type": "markdown",
   "metadata": {},
   "source": [
    "Consider the following input:"
   ]
  },
  {
   "cell_type": "code",
   "execution_count": 113,
   "metadata": {
    "internals": {},
    "slideshow": {
     "slide_type": "-"
    }
   },
   "outputs": [],
   "source": [
    "x = np.array([[0, 1, 2], [3, 4, 5], [6, 7, 8]])"
   ]
  },
  {
   "cell_type": "code",
   "execution_count": 114,
   "metadata": {
    "internals": {},
    "slideshow": {
     "slide_type": "-"
    }
   },
   "outputs": [
    {
     "data": {
      "text/plain": [
       "(3, 3)"
      ]
     },
     "execution_count": 114,
     "metadata": {},
     "output_type": "execute_result"
    }
   ],
   "source": [
    "x.shape"
   ]
  },
  {
   "cell_type": "markdown",
   "metadata": {
    "internals": {},
    "slideshow": {
     "slide_type": "-"
    }
   },
   "source": [
    "What would happen if we do"
   ]
  },
  {
   "cell_type": "code",
   "execution_count": 115,
   "metadata": {
    "internals": {},
    "slideshow": {
     "slide_type": "-"
    }
   },
   "outputs": [],
   "source": [
    "idx0 = np.array([[0, 1],\n",
    "                 [1, 2]])  # row indices\n",
    "\n",
    "idx1 = np.array([[0, 1]])  # column indices"
   ]
  },
  {
   "cell_type": "markdown",
   "metadata": {
    "internals": {
     "slide_helper": "subslide_end"
    },
    "slide_helper": "subslide_end",
    "slideshow": {
     "slide_type": "-"
    }
   },
   "source": [
    "```python\n",
    "x[idx0, idx1]\n",
    "```"
   ]
  },
  {
   "cell_type": "markdown",
   "metadata": {
    "slideshow": {
     "slide_type": "subslide"
    }
   },
   "source": [
    "### Fancy indexing rule\n",
    "\n",
    "1. Broadcast all index arrays against one another.\n",
    "2. Use the dimensions of slices as-is."
   ]
  },
  {
   "cell_type": "markdown",
   "metadata": {
    "internals": {
     "slide_type": "subslide"
    },
    "slideshow": {
     "slide_type": "subslide"
    }
   },
   "source": [
    "### Output shape of indexing op (cont'd)"
   ]
  },
  {
   "cell_type": "code",
   "execution_count": 118,
   "metadata": {
    "internals": {},
    "slideshow": {
     "slide_type": "-"
    }
   },
   "outputs": [
    {
     "data": {
      "text/plain": [
       "((2, 2), (1, 2))"
      ]
     },
     "execution_count": 118,
     "metadata": {},
     "output_type": "execute_result"
    }
   ],
   "source": [
    "# x[idx0, idx1]\n",
    "idx0.shape, idx1.shape"
   ]
  },
  {
   "cell_type": "code",
   "execution_count": 119,
   "metadata": {
    "internals": {},
    "slideshow": {
     "slide_type": "-"
    }
   },
   "outputs": [
    {
     "data": {
      "text/plain": [
       "array([[0, 1],\n",
       "       [1, 2]])"
      ]
     },
     "execution_count": 119,
     "metadata": {},
     "output_type": "execute_result"
    }
   ],
   "source": [
    "a, b = np.broadcast_arrays(idx0, idx1)\n",
    "a"
   ]
  },
  {
   "cell_type": "code",
   "execution_count": 120,
   "metadata": {
    "internals": {},
    "slideshow": {
     "slide_type": "-"
    }
   },
   "outputs": [
    {
     "data": {
      "text/plain": [
       "array([[0, 1],\n",
       "       [0, 1]])"
      ]
     },
     "execution_count": 120,
     "metadata": {},
     "output_type": "execute_result"
    }
   ],
   "source": [
    "b"
   ]
  },
  {
   "cell_type": "code",
   "execution_count": 121,
   "metadata": {
    "internals": {},
    "slideshow": {
     "slide_type": "-"
    }
   },
   "outputs": [
    {
     "data": {
      "text/plain": [
       "array([[0, 1, 2],\n",
       "       [3, 4, 5],\n",
       "       [6, 7, 8]])"
      ]
     },
     "execution_count": 121,
     "metadata": {},
     "output_type": "execute_result"
    }
   ],
   "source": [
    "x"
   ]
  },
  {
   "cell_type": "code",
   "execution_count": 122,
   "metadata": {
    "internals": {
     "slide_helper": "subslide_end"
    },
    "slide_helper": "subslide_end",
    "slideshow": {
     "slide_type": "-"
    }
   },
   "outputs": [
    {
     "data": {
      "text/plain": [
       "array([[0, 4],\n",
       "       [3, 7]])"
      ]
     },
     "execution_count": 122,
     "metadata": {},
     "output_type": "execute_result"
    }
   ],
   "source": [
    "x[idx0, idx1]\n"
   ]
  },
  {
   "cell_type": "markdown",
   "metadata": {
    "internals": {
     "slide_type": "subslide"
    },
    "slideshow": {
     "slide_type": "subslide"
    }
   },
   "source": [
    "## Output shape of an indexing op (cont'd)"
   ]
  },
  {
   "cell_type": "code",
   "execution_count": 123,
   "metadata": {
    "internals": {},
    "slideshow": {
     "slide_type": "-"
    }
   },
   "outputs": [],
   "source": [
    "x = np.random.random((15, 12, 16, 3))\n",
    "\n",
    "index_one = np.array([[0, 1], [2, 3], [4, 5]])\n",
    "index_two = np.array([[0, 1]])"
   ]
  },
  {
   "cell_type": "code",
   "execution_count": 124,
   "metadata": {
    "internals": {},
    "slideshow": {
     "slide_type": "-"
    }
   },
   "outputs": [
    {
     "name": "stdout",
     "output_type": "stream",
     "text": [
      "(3, 2)\n",
      "(1, 2)\n"
     ]
    }
   ],
   "source": [
    "print(index_one.shape)\n",
    "print(index_two.shape)"
   ]
  },
  {
   "cell_type": "markdown",
   "metadata": {
    "internals": {},
    "slideshow": {
     "slide_type": "-"
    }
   },
   "source": [
    "Predict the output shape of"
   ]
  },
  {
   "cell_type": "markdown",
   "metadata": {
    "internals": {},
    "slideshow": {
     "slide_type": "-"
    }
   },
   "source": [
    "```python\n",
    "x[5:10, index_one, :, index_two]\n",
    "```"
   ]
  },
  {
   "cell_type": "markdown",
   "metadata": {
    "internals": {
     "slide_helper": "subslide_end"
    },
    "slide_helper": "subslide_end",
    "slideshow": {
     "slide_type": "-"
    }
   },
   "source": [
    "Warning! When mixing slicing and fancy indexing, the\n",
    "*order* of the output dimensions is less easy to predict.\n",
    "Play it safe and **don't mix the two!**"
   ]
  },
  {
   "cell_type": "markdown",
   "metadata": {
    "internals": {
     "slide_type": "subslide"
    },
    "slideshow": {
     "slide_type": "subslide"
    }
   },
   "source": [
    "## Output shape of an indexing op (cont'd)"
   ]
  },
  {
   "cell_type": "code",
   "execution_count": 125,
   "metadata": {
    "internals": {},
    "slideshow": {
     "slide_type": "-"
    }
   },
   "outputs": [],
   "source": [
    "x = np.random.random((15, 12, 16, 3))\n",
    "index_one = np.array([[0, 1], [2, 3], [4, 5]])\n",
    "index_two = np.array([[0, 1]])"
   ]
  },
  {
   "cell_type": "code",
   "execution_count": 126,
   "metadata": {
    "internals": {},
    "slideshow": {
     "slide_type": "-"
    }
   },
   "outputs": [
    {
     "name": "stdout",
     "output_type": "stream",
     "text": [
      "(3, 2)\n",
      "(1, 2)\n"
     ]
    }
   ],
   "source": [
    "print(index_one.shape)\n",
    "print(index_two.shape)"
   ]
  },
  {
   "cell_type": "markdown",
   "metadata": {
    "internals": {},
    "slideshow": {
     "slide_type": "-"
    }
   },
   "source": [
    "Broadcast ``index1`` against ``index2``:"
   ]
  },
  {
   "cell_type": "markdown",
   "metadata": {
    "internals": {},
    "slideshow": {
     "slide_type": "-"
    }
   },
   "source": [
    "```\n",
    "(3, 2)  # shape of index1\n",
    "(1, 2)  # shape of index2\n",
    "------\n",
    "(3, 2)\n",
    "```"
   ]
  },
  {
   "cell_type": "code",
   "execution_count": 128,
   "metadata": {},
   "outputs": [
    {
     "data": {
      "text/plain": [
       "(3, 2, 5, 16)"
      ]
     },
     "execution_count": 128,
     "metadata": {},
     "output_type": "execute_result"
    }
   ],
   "source": [
    "x[5:10, index_one, :, index_two].shape"
   ]
  },
  {
   "cell_type": "markdown",
   "metadata": {
    "internals": {
     "slide_type": "subslide"
    },
    "slideshow": {
     "slide_type": "subslide"
    }
   },
   "source": [
    "## Jack's dilemma\n",
    "\n",
    "Now that we are able to predict the output of broadcasting and indexing operations, let's take a look at one of my favourite questions from the NumPy mailing list:"
   ]
  },
  {
   "cell_type": "markdown",
   "metadata": {
    "internals": {
     "slide_helper": "subslide_end"
    },
    "slide_helper": "subslide_end",
    "slideshow": {
     "slide_type": "-"
    }
   },
   "source": [
    "```email\n",
    "Date: Wed, 16 Jul 2008 16:45:37 -0500\n",
    "From: Jack Cook\n",
    "To: <numpy-discussion@scipy.org>\n",
    "Subject: Numpy Advanced Indexing Question\n",
    "```\n",
    "\n",
    "Greetings,\n",
    "\n",
    "I have an I,J,K 3D volume of amplitude values at regularly sampled\n",
    "time intervals. I have an I,J 2D slice which contains a time (K)\n",
    "value at each I, J location. What I would like to do is extract a\n",
    "subvolume at a constant +/- K window around the slice. Is there an\n",
    "easy way to do this using advanced indexing or some other method?\n",
    "Thanks in advanced for your help.\n",
    "\n",
    "-- Jack"
   ]
  },
  {
   "cell_type": "markdown",
   "metadata": {
    "internals": {
     "slide_helper": "subslide_end",
     "slide_type": "subslide"
    },
    "slide_helper": "subslide_end",
    "slideshow": {
     "slide_type": "subslide"
    }
   },
   "source": [
    "<img src=\"images/jack_labeled.png\" width=\"90%\" alt=\"Jack's cube\"/>"
   ]
  },
  {
   "cell_type": "markdown",
   "metadata": {
    "internals": {
     "slide_type": "subslide"
    },
    "slideshow": {
     "slide_type": "subslide"
    }
   },
   "source": [
    "### Test setup"
   ]
  },
  {
   "cell_type": "code",
   "execution_count": 1,
   "metadata": {},
   "outputs": [],
   "source": [
    "import numpy as np"
   ]
  },
  {
   "cell_type": "code",
   "execution_count": 2,
   "metadata": {
    "internals": {},
    "slideshow": {
     "slide_type": "-"
    }
   },
   "outputs": [],
   "source": [
    "ni, nj, nk = (10, 15, 20)  # dimensions\n",
    "half_width = 3  # take 7 elements"
   ]
  },
  {
   "cell_type": "markdown",
   "metadata": {
    "internals": {},
    "slideshow": {
     "slide_type": "-"
    }
   },
   "source": [
    "Make a fake data block such that ``block[i, j, k] == k`` for all i, j, k."
   ]
  },
  {
   "cell_type": "code",
   "execution_count": 3,
   "metadata": {
    "internals": {},
    "slideshow": {
     "slide_type": "-"
    }
   },
   "outputs": [],
   "source": [
    "block = np.empty((ni, nj, nk) , dtype=int)\n",
    "block[:] = np.arange(nk)[np.newaxis, np.newaxis, :]"
   ]
  },
  {
   "cell_type": "code",
   "execution_count": 55,
   "metadata": {
    "slideshow": {
     "slide_type": "skip"
    }
   },
   "outputs": [],
   "source": [
    "%matplotlib inline\n",
    "import matplotlib.pyplot as plt\n",
    "\n",
    "f, (ax0, ax1, ax2) = plt.subplots(1, 3, figsize=(20, 10))\n",
    "\n",
    "ax0.imshow(block[:, :, 15]);\n",
    "ax0.set_title('block[:, :, 15]')\n",
    "\n",
    "ax1.imshow(block[:, 10, :])\n",
    "ax1.set_title('block[:, 10, :]')\n",
    "\n",
    "ax2.imshow(block[5, :, :])\n",
    "ax2.set_title('block[5, :, :]');\n",
    "\n",
    "plt.savefig('_slices.png', bbox_inches='tight')\n",
    "plt.close()"
   ]
  },
  {
   "cell_type": "markdown",
   "metadata": {
    "slideshow": {
     "slide_type": "subslide"
    }
   },
   "source": [
    "<img src=\"images/axes_slices.png\" width=\"50%\"/>\n",
    "<img src=\"_slices.png\" width=\"100%\"/>"
   ]
  },
  {
   "cell_type": "markdown",
   "metadata": {
    "internals": {},
    "slideshow": {
     "slide_type": "subslide"
    }
   },
   "source": [
    "Pick out a random fake horizon in ``k``:"
   ]
  },
  {
   "cell_type": "code",
   "execution_count": 27,
   "metadata": {
    "internals": {},
    "slideshow": {
     "slide_type": "-"
    }
   },
   "outputs": [
    {
     "data": {
      "text/plain": [
       "array([[10,  5,  8,  8, 12, 14,  8, 10,  7,  9, 12, 11, 13, 13,  6],\n",
       "       [11, 12, 12, 13,  6, 10, 14, 13, 14,  9,  8,  5,  8, 10,  5],\n",
       "       [ 7,  8, 13,  6,  8,  8,  8, 12,  5,  6, 14, 14,  5,  9, 12],\n",
       "       [ 8,  7, 12,  7,  5,  5,  9, 10, 10, 11, 13,  9,  6,  9, 14],\n",
       "       [13,  6,  6, 12, 14, 14,  8, 11, 12,  7,  5,  8, 10, 14,  9],\n",
       "       [ 9, 11,  9,  9,  8,  9,  9, 13,  9,  8, 12, 10, 10,  5,  6],\n",
       "       [10, 14,  8,  5, 10,  5,  6,  7,  9,  7,  5,  8,  7,  5, 12],\n",
       "       [10, 14,  5,  7, 12,  7, 14,  7,  8,  8,  7,  8,  9,  6,  7],\n",
       "       [14,  6,  9, 11, 13,  7,  8,  5,  5, 11,  5, 11,  8,  8, 13],\n",
       "       [13, 13,  7,  8,  7,  5, 13, 13,  8, 13,  7, 13,  9,  8,  5]])"
      ]
     },
     "execution_count": 27,
     "metadata": {},
     "output_type": "execute_result"
    }
   ],
   "source": [
    "rng = np.random.RandomState(0)\n",
    "\n",
    "k = rng.randint(5, 15, size=(ni, nj))\n",
    "k"
   ]
  },
  {
   "cell_type": "code",
   "execution_count": 38,
   "metadata": {},
   "outputs": [
    {
     "name": "stdout",
     "output_type": "stream",
     "text": [
      "(10, 15, 20)\n",
      "3\n"
     ]
    }
   ],
   "source": [
    "print(block.shape)\n",
    "print(half_width)"
   ]
  },
  {
   "cell_type": "markdown",
   "metadata": {},
   "source": [
    "Pause to think: what shape should the result be?"
   ]
  },
  {
   "cell_type": "markdown",
   "metadata": {
    "internals": {
     "slide_type": "subslide"
    },
    "slideshow": {
     "slide_type": "subslide"
    }
   },
   "source": [
    "### Solution\n",
    "\n",
    "These two indices assure that we take a slice at each (i, j) position"
   ]
  },
  {
   "cell_type": "code",
   "execution_count": 28,
   "metadata": {
    "internals": {},
    "slideshow": {
     "slide_type": "-"
    }
   },
   "outputs": [],
   "source": [
    "idx_i = np.arange(ni)[:, np.newaxis, np.newaxis]  # shape (ni, 1, 1)\n",
    "idx_j = np.arange(nj)[np.newaxis, :, np.newaxis]  # shape (1, nj, 1)"
   ]
  },
  {
   "cell_type": "markdown",
   "metadata": {
    "internals": {},
    "slideshow": {
     "slide_type": "-"
    }
   },
   "source": [
    "This is the substantitive part that picks out the window:"
   ]
  },
  {
   "cell_type": "code",
   "execution_count": 39,
   "metadata": {
    "internals": {},
    "slideshow": {
     "slide_type": "-"
    }
   },
   "outputs": [],
   "source": [
    "idx_k = k[:, :, np.newaxis] + np.arange(-half_width, half_width + 1)\n",
    "# What is the shape of idx_k?"
   ]
  },
  {
   "cell_type": "code",
   "execution_count": 40,
   "metadata": {
    "internals": {},
    "slideshow": {
     "slide_type": "-"
    }
   },
   "outputs": [],
   "source": [
    "slices = block[idx_i, idx_j, idx_k]  # Slice"
   ]
  },
  {
   "cell_type": "markdown",
   "metadata": {
    "internals": {},
    "slideshow": {
     "slide_type": "subslide"
    }
   },
   "source": [
    "Apply the broadcasting rules:\n",
    "\n",
    "```python\n",
    "idx_i = np.arange(ni)[:, np.newaxis, np.newaxis]  # shape (ni, 1, 1)\n",
    "idx_j = np.arange(nj)[np.newaxis, :, np.newaxis]  # shape (1, nj, 1)\n",
    "idx_k = k[:, :, np.newaxis] + np.arange(-half_width, half_width + 1)\n",
    "\n",
    "slices[block_idx, idx_j, idx_k]\n",
    "```"
   ]
  },
  {
   "cell_type": "markdown",
   "metadata": {
    "internals": {
     "slide_helper": "subslide_end"
    },
    "slide_helper": "subslide_end",
    "slideshow": {
     "slide_type": "-"
    }
   },
   "source": [
    "```\n",
    "(ni,  1, 1                 )  # idx_i\n",
    "(1,  nj, 1                 )  # idx_j\n",
    "(ni, nj, 2 * half_width + 1)  # idx_k\n",
    "----------------------------\n",
    "(ni, nj, 7)  <-- this is what we wanted!\n",
    "```"
   ]
  },
  {
   "cell_type": "markdown",
   "metadata": {
    "internals": {
     "slide_type": "subslide"
    },
    "slideshow": {
     "slide_type": "subslide"
    }
   },
   "source": [
    "### Solution verification"
   ]
  },
  {
   "cell_type": "code",
   "execution_count": 41,
   "metadata": {
    "internals": {},
    "slideshow": {
     "slide_type": "-"
    }
   },
   "outputs": [
    {
     "data": {
      "text/plain": [
       "(10, 15, 7)"
      ]
     },
     "execution_count": 41,
     "metadata": {},
     "output_type": "execute_result"
    }
   ],
   "source": [
    "slices = block[idx_i, idx_j, idx_k]\n",
    "slices.shape\n",
    "(10, 15, 7)"
   ]
  },
  {
   "cell_type": "markdown",
   "metadata": {
    "internals": {},
    "slideshow": {
     "slide_type": "-"
    }
   },
   "source": [
    "Now verify that our window is centered on ``k`` everywhere:"
   ]
  },
  {
   "cell_type": "code",
   "execution_count": 42,
   "metadata": {
    "internals": {},
    "slideshow": {
     "slide_type": "-"
    }
   },
   "outputs": [
    {
     "data": {
      "text/plain": [
       "array([[10,  5,  8,  8, 12, 14,  8, 10,  7,  9, 12, 11, 13, 13,  6],\n",
       "       [11, 12, 12, 13,  6, 10, 14, 13, 14,  9,  8,  5,  8, 10,  5],\n",
       "       [ 7,  8, 13,  6,  8,  8,  8, 12,  5,  6, 14, 14,  5,  9, 12],\n",
       "       [ 8,  7, 12,  7,  5,  5,  9, 10, 10, 11, 13,  9,  6,  9, 14],\n",
       "       [13,  6,  6, 12, 14, 14,  8, 11, 12,  7,  5,  8, 10, 14,  9],\n",
       "       [ 9, 11,  9,  9,  8,  9,  9, 13,  9,  8, 12, 10, 10,  5,  6],\n",
       "       [10, 14,  8,  5, 10,  5,  6,  7,  9,  7,  5,  8,  7,  5, 12],\n",
       "       [10, 14,  5,  7, 12,  7, 14,  7,  8,  8,  7,  8,  9,  6,  7],\n",
       "       [14,  6,  9, 11, 13,  7,  8,  5,  5, 11,  5, 11,  8,  8, 13],\n",
       "       [13, 13,  7,  8,  7,  5, 13, 13,  8, 13,  7, 13,  9,  8,  5]])"
      ]
     },
     "execution_count": 42,
     "metadata": {},
     "output_type": "execute_result"
    }
   ],
   "source": [
    "slices[:, :, 3]"
   ]
  },
  {
   "cell_type": "code",
   "execution_count": 43,
   "metadata": {
    "internals": {},
    "slideshow": {
     "slide_type": "-"
    }
   },
   "outputs": [
    {
     "data": {
      "text/plain": [
       "True"
      ]
     },
     "execution_count": 43,
     "metadata": {},
     "output_type": "execute_result"
    }
   ],
   "source": [
    "np.all(slices[:, :, 3] == k)"
   ]
  },
  {
   "cell_type": "markdown",
   "metadata": {
    "internals": {},
    "slideshow": {
     "slide_type": "slide"
    }
   },
   "source": [
    "## The \\_\\_array\\_interface\\_\\_\n",
    "\n",
    "Any object that exposes a suitable dictionary named\n",
    "``__array_interface__`` may be converted to a NumPy array. This is\n",
    "handy for exchanging data with external libraries. The array interface\n",
    "has the following important keys (see\n",
    "http://docs.scipy.org/doc/numpy/reference/arrays.interface):\n",
    "\n",
    " - **shape**\n",
    " - **typestr**\n",
    " - **data**: (20495857, True); 2-tuple—pointer to data and boolean to\n",
    "indicate whether memory is read-only\n",
    " - **strides**\n",
    " - **version**: 3"
   ]
  },
  {
   "cell_type": "markdown",
   "metadata": {
    "internals": {},
    "slideshow": {
     "slide_type": "subslide"
    }
   },
   "source": [
    "## Stride Tricks: Repeating sequence"
   ]
  },
  {
   "cell_type": "code",
   "execution_count": 44,
   "metadata": {
    "internals": {},
    "slideshow": {
     "slide_type": "-"
    }
   },
   "outputs": [
    {
     "name": "stdout",
     "output_type": "stream",
     "text": [
      "(4,) (8,)\n"
     ]
    }
   ],
   "source": [
    "data = np.array([1, 2, 3, 4])\n",
    "print(data.shape, data.strides)"
   ]
  },
  {
   "cell_type": "code",
   "execution_count": 45,
   "metadata": {
    "internals": {},
    "slideshow": {
     "slide_type": "-"
    }
   },
   "outputs": [],
   "source": [
    "N = 400000\n",
    "repeat = np.lib.stride_tricks.as_strided(data, shape=(N, 4), strides=(0, 8))"
   ]
  },
  {
   "cell_type": "code",
   "execution_count": 46,
   "metadata": {
    "internals": {
     "slide_helper": "subslide_end"
    },
    "slide_helper": "slide_end",
    "slideshow": {
     "slide_type": "-"
    }
   },
   "outputs": [
    {
     "data": {
      "text/plain": [
       "array([[1, 2, 3, 4],\n",
       "       [1, 2, 3, 4],\n",
       "       [1, 2, 3, 4],\n",
       "       ...,\n",
       "       [1, 2, 3, 4],\n",
       "       [1, 2, 3, 4],\n",
       "       [1, 2, 3, 4]])"
      ]
     },
     "execution_count": 46,
     "metadata": {},
     "output_type": "execute_result"
    }
   ],
   "source": [
    "repeat"
   ]
  },
  {
   "cell_type": "markdown",
   "metadata": {
    "slideshow": {
     "slide_type": "slide"
    }
   },
   "source": [
    "# Side Trivia\n",
    "NumPy implements a Diophantine (integer) [equation solver](https://github.com/numpy/numpy/blob/master/numpy/core/src/private/mem_overlap.c) for `np.shares_memory` to calculate whether two arrays possibly overlap in memory.\n",
    "\n",
    "Q: Can you imagine why this (`np.shares_memory`) is a tricky problem to solve?"
   ]
  },
  {
   "cell_type": "markdown",
   "metadata": {},
   "source": [
    "```\n",
    "sum(a * x[i] for i in range(n)) == b\n",
    "\n",
    "a[i] > 0, 0 <= x[i] <= ub[i]\n",
    "```"
   ]
  },
  {
   "cell_type": "markdown",
   "metadata": {
    "slideshow": {
     "slide_type": "subslide"
    }
   },
   "source": [
    "You can even access this solver from Python.  For example, given that a year has 365 days, how do we fit in months of 28, 30, and 31 days?"
   ]
  },
  {
   "cell_type": "code",
   "execution_count": 47,
   "metadata": {},
   "outputs": [
    {
     "data": {
      "text/plain": [
       "(2, 1, 9)"
      ]
     },
     "execution_count": 47,
     "metadata": {},
     "output_type": "execute_result"
    }
   ],
   "source": [
    "from numpy.core.multiarray_tests import solve_diophantine\n",
    "\n",
    "month_days = (28, 30, 31)\n",
    "limits = (20, 20, 20)\n",
    "\n",
    "solve_diophantine(month_days, limits, 365)"
   ]
  },
  {
   "cell_type": "code",
   "execution_count": 103,
   "metadata": {},
   "outputs": [
    {
     "data": {
      "text/plain": [
       "365"
      ]
     },
     "execution_count": 103,
     "metadata": {},
     "output_type": "execute_result"
    }
   ],
   "source": [
    "(2 * 28) + (1 * 30) + (9 * 31) "
   ]
  },
  {
   "cell_type": "code",
   "execution_count": 48,
   "metadata": {},
   "outputs": [
    {
     "data": {
      "text/plain": [
       "(1, 4, 7)"
      ]
     },
     "execution_count": 48,
     "metadata": {},
     "output_type": "execute_result"
    }
   ],
   "source": [
    "solve_diophantine(month_days, (1, 20, 20), 365)"
   ]
  },
  {
   "cell_type": "code",
   "execution_count": 49,
   "metadata": {},
   "outputs": [
    {
     "data": {
      "text/plain": [
       "365"
      ]
     },
     "execution_count": 49,
     "metadata": {},
     "output_type": "execute_result"
    }
   ],
   "source": [
    "(1 * 28) + (4 * 30) + (7 * 31)"
   ]
  },
  {
   "cell_type": "markdown",
   "metadata": {
    "internals": {
     "slide_type": "subslide"
    },
    "slideshow": {
     "slide_type": "slide"
    }
   },
   "source": [
    "## Questions, discussion and exercises"
   ]
  },
  {
   "cell_type": "markdown",
   "metadata": {
    "internals": {},
    "slideshow": {
     "slide_type": "-"
    }
   },
   "source": [
    "---\n",
    "<div style=\"height: 200px;\"/>"
   ]
  },
  {
   "cell_type": "code",
   "execution_count": null,
   "metadata": {
    "collapsed": true,
    "internals": {
     "slide_helper": "subslide_end"
    },
    "slide_helper": "slide_end",
    "slideshow": {
     "slide_type": "-"
    }
   },
   "outputs": [],
   "source": [
    "%reload_ext load_style\n",
    "%load_style css/notebook.css"
   ]
  }
 ],
 "metadata": {
  "celltoolbar": "Slideshow",
  "kernelspec": {
   "display_name": "Python 3",
   "language": "python",
   "name": "python3"
  },
  "language_info": {
   "codemirror_mode": {
    "name": "ipython",
    "version": 3
   },
   "file_extension": ".py",
   "mimetype": "text/x-python",
   "name": "python",
   "nbconvert_exporter": "python",
   "pygments_lexer": "ipython3",
   "version": "3.6.3"
  }
 },
 "nbformat": 4,
 "nbformat_minor": 1
}
